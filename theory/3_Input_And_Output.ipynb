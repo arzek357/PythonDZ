{
 "cells": [
  {
   "cell_type": "markdown",
   "metadata": {},
   "source": [
    "# Ввод и вывод"
   ]
  },
  {
   "cell_type": "markdown",
   "metadata": {},
   "source": [
    "# Оглавление\n",
    "\n",
    "\n",
    "* [Вывод кода на экран](#print)\n",
    "    * [Строковые литералы](#string_literals)\n",
    "    * [Метод format()](#format_method)\n",
    "    * [Ручное форматирование строк](#manual_string_formating)\n",
    "    * [Старое форматирование](#old_formating)\n",
    "* [Чтение и запись файлов](#read_write)\n",
    "    * [Методы файловых объектов](#file_objects)\n",
    "        * [Чтение](#read)\n",
    "        * [Запись](#write)\n",
    "    * [JSON](#json)"
   ]
  },
  {
   "cell_type": "markdown",
   "metadata": {},
   "source": [
    "# Вывод кода на экран <a class=\"anchor\" id=\"print\"></a>"
   ]
  },
  {
   "cell_type": "markdown",
   "metadata": {},
   "source": [
    "Есть несколько способов представить результат программы:\n",
    "* данные можно вывести в удобочитаемой форме\n",
    "* записать в файл для использования в будущем."
   ]
  },
  {
   "cell_type": "markdown",
   "metadata": {},
   "source": [
    "Зачастую необходимо немного более хитрое форматирование вывода, чем простое использование функции print() с одним или несколькими переменными. Есть три способа отформатировать вывод:\n",
    "1) Первый способ - выполнить всю обработку строки самостоятельно; Используя срезы и конкатенацию строк, можно создать практически любой вывод. У строкового типа есть несколько методов, которые выполняют полезные операции для заполнения строк до заданной ширины столбца, они будут обсуждаться в ближайшее время. \n",
    "2) Второй способ - использовать строковые литералы.\n",
    "3) Третий способ - использовать метод str.format ().\n",
    "\n",
    "Если нужно просто быстрое отображение некоторых переменных для целей отладки, можно преобразовать любое значение в строку с помощью функций repr() или str ().\n",
    "\n",
    "Функция str () предназначена для возврата представлений значений, которые достаточно удобочитаемы, в то время как repr () предназначена для создания представлений, которые могут быть прочитаны интерпретатором (или вызовет SyntaxError, если нет эквивалентного синтаксиса). Для объектов, которые не имеют определенного представления для использования человеком, str () вернет то же значение, что и repr (). Многие значения, такие как числа или структуры, такие как списки и словари, имеют одинаковое представление с использованием любой функции. В частности, строки имеют два различных представления."
   ]
  },
  {
   "cell_type": "code",
   "execution_count": 2,
   "metadata": {},
   "outputs": [
    {
     "data": {
      "text/plain": [
       "'Hello, world.'"
      ]
     },
     "execution_count": 2,
     "metadata": {},
     "output_type": "execute_result"
    }
   ],
   "source": [
    "s = 'Hello, world.'\n",
    "str(s)"
   ]
  },
  {
   "cell_type": "code",
   "execution_count": 3,
   "metadata": {},
   "outputs": [
    {
     "data": {
      "text/plain": [
       "\"'Hello, world.'\""
      ]
     },
     "execution_count": 3,
     "metadata": {},
     "output_type": "execute_result"
    }
   ],
   "source": [
    "repr(s)"
   ]
  },
  {
   "cell_type": "code",
   "execution_count": 4,
   "metadata": {},
   "outputs": [
    {
     "data": {
      "text/plain": [
       "'0.14285714285714285'"
      ]
     },
     "execution_count": 4,
     "metadata": {},
     "output_type": "execute_result"
    }
   ],
   "source": [
    "str(1/7)"
   ]
  },
  {
   "cell_type": "code",
   "execution_count": 5,
   "metadata": {},
   "outputs": [
    {
     "name": "stdout",
     "output_type": "stream",
     "text": [
      "The value of x is 32.5, and y is 40000...\n"
     ]
    }
   ],
   "source": [
    "x = 10 * 3.25\n",
    "y = 200 * 200\n",
    "s = 'The value of x is ' + repr(x) + ', and y is ' + repr(y) + '...'\n",
    "print(s)"
   ]
  },
  {
   "cell_type": "code",
   "execution_count": 7,
   "metadata": {},
   "outputs": [
    {
     "name": "stdout",
     "output_type": "stream",
     "text": [
      "'hello, world\\n'\n",
      "hello, world\n",
      "\n"
     ]
    }
   ],
   "source": [
    "# The repr() of a string adds string quotes and backslashes:\n",
    "hello = 'hello, world\\n'\n",
    "hellos = repr(hello)\n",
    "print(hellos)\n",
    "print(hello)"
   ]
  },
  {
   "cell_type": "code",
   "execution_count": 8,
   "metadata": {},
   "outputs": [
    {
     "data": {
      "text/plain": [
       "\"(32.5, 40000, ('spam', 'eggs'))\""
      ]
     },
     "execution_count": 8,
     "metadata": {},
     "output_type": "execute_result"
    }
   ],
   "source": [
    "# The argument to repr() may be any Python object:\n",
    "repr((x, y, ('spam', 'eggs')))"
   ]
  },
  {
   "cell_type": "markdown",
   "metadata": {},
   "source": [
    "## Строковые литералы <a class=\"anchor\" id=\"string_literals\"></a>"
   ]
  },
  {
   "cell_type": "markdown",
   "metadata": {},
   "source": [
    "Строковые литералы позволяют включать значения dshf;tybq Python в строку, добавляя в строку префикс f или F и записывая выражения как **{expresion}**.\n",
    "\n",
    "За выражением может следовать необязательный спецификатор формата. Это позволяет контролировать форматирование нужного значения. В следующем примере число pi округляется до трех знаков после запятой:"
   ]
  },
  {
   "cell_type": "code",
   "execution_count": 11,
   "metadata": {},
   "outputs": [
    {
     "name": "stdout",
     "output_type": "stream",
     "text": [
      "The value of pi is 3.141592653589793.\n",
      "The value of pi is approximately 3.142.\n"
     ]
    }
   ],
   "source": [
    "import math\n",
    "print(f'The value of pi is {math.pi}.')\n",
    "print(f'The value of pi is approximately {math.pi:.3f}.')"
   ]
  },
  {
   "cell_type": "markdown",
   "metadata": {},
   "source": [
    "Передача целого числа после \":\" приведет к тому, что поле будет иметь заданное минимальное количество символов в ширину. Это можно использовать при создании красивых таблиц."
   ]
  },
  {
   "cell_type": "code",
   "execution_count": 16,
   "metadata": {},
   "outputs": [
    {
     "name": "stdout",
     "output_type": "stream",
     "text": [
      "Sjoerd     ==>       4127\n",
      "Jack       ==>       4098\n",
      "Dcab       ==>       7678\n"
     ]
    }
   ],
   "source": [
    "table = {'Sjoerd': 4127, 'Jack': 4098, 'Dcab': 7678}\n",
    "for name, phone in table.items():\n",
    "    print(f'{name:10} ==> {phone:10d}')"
   ]
  },
  {
   "cell_type": "markdown",
   "metadata": {},
   "source": [
    "Другие модификаторы можно использовать для преобразования значения до его форматирования. \"!a\" применяет встроенную функцию ascii(), \"!s\" применяет встроенную функцию str(), а \"! r\" встроенную функцию применяет repr():"
   ]
  },
  {
   "cell_type": "code",
   "execution_count": 17,
   "metadata": {},
   "outputs": [
    {
     "name": "stdout",
     "output_type": "stream",
     "text": [
      "My hovercraft is full of eels.\n",
      "My hovercraft is full of 'eels'.\n"
     ]
    }
   ],
   "source": [
    "animals = 'eels'\n",
    "print(f'My hovercraft is full of {animals}.'\n",
    "print(f'My hovercraft is full of {animals!r}.')"
   ]
  },
  {
   "cell_type": "markdown",
   "metadata": {},
   "source": [
    "## Метод format() <a class=\"anchor\" id=\"format_method\"></a>"
   ]
  },
  {
   "cell_type": "markdown",
   "metadata": {},
   "source": [
    "Применение метода str.format () выглядит следующим образом:"
   ]
  },
  {
   "cell_type": "code",
   "execution_count": 19,
   "metadata": {},
   "outputs": [
    {
     "name": "stdout",
     "output_type": "stream",
     "text": [
      "We are the knights who say \"Ni!\"\n"
     ]
    }
   ],
   "source": [
    "print('We are the {} who say \"{}!\"'.format('knights', 'Ni'))"
   ]
  },
  {
   "cell_type": "markdown",
   "metadata": {},
   "source": [
    "Скобки и символы внутри заменяются объектами, переданными в метод str.format (). Число в скобках может использоваться для обозначения позиции объекта, переданного в метод str.format ()."
   ]
  },
  {
   "cell_type": "code",
   "execution_count": 20,
   "metadata": {},
   "outputs": [
    {
     "name": "stdout",
     "output_type": "stream",
     "text": [
      "spam and eggs\n"
     ]
    }
   ],
   "source": [
    "print('{0} and {1}'.format('spam', 'eggs'))"
   ]
  },
  {
   "cell_type": "code",
   "execution_count": 21,
   "metadata": {},
   "outputs": [
    {
     "name": "stdout",
     "output_type": "stream",
     "text": [
      "eggs and spam\n"
     ]
    }
   ],
   "source": [
    "print('{1} and {0}'.format('spam', 'eggs'))"
   ]
  },
  {
   "cell_type": "markdown",
   "metadata": {},
   "source": [
    "Если ключевые аргументы используются в методе str.format (), к их значениям обращаются с использованием имени аргумента."
   ]
  },
  {
   "cell_type": "code",
   "execution_count": 23,
   "metadata": {},
   "outputs": [
    {
     "name": "stdout",
     "output_type": "stream",
     "text": [
      "This spam is absolutely horrible.\n"
     ]
    }
   ],
   "source": [
    "print('This {food} is {adjective}.'.format(\n",
    "      food='spam', adjective='absolutely horrible'))"
   ]
  },
  {
   "cell_type": "markdown",
   "metadata": {},
   "source": [
    "Позиционные аргументы и аргументы ключевого слова можно произвольно комбинировать:"
   ]
  },
  {
   "cell_type": "code",
   "execution_count": 24,
   "metadata": {},
   "outputs": [
    {
     "name": "stdout",
     "output_type": "stream",
     "text": [
      "The story of Bill, Manfred, and Georg.\n"
     ]
    }
   ],
   "source": [
    "print('The story of {0}, {1}, and {other}.'.format('Bill', 'Manfred', other='Georg'))"
   ]
  },
  {
   "cell_type": "markdown",
   "metadata": {},
   "source": [
    "Также можно ссылаться на переменные по имени, а не по позиции. Это можно сделать, просто передав словарь и используя квадратные скобки '[]' для доступа к ключам."
   ]
  },
  {
   "cell_type": "code",
   "execution_count": 14,
   "metadata": {},
   "outputs": [
    {
     "name": "stdout",
     "output_type": "stream",
     "text": [
      "Jack: 4098; Sjoerd: 4127; Dcab: 8637678\n"
     ]
    }
   ],
   "source": [
    "table = {'Sjoerd': 4127, 'Jack': 4098, 'Dcab': 8637678}\n",
    "print('Jack: {0[Jack]:d}; Sjoerd: {0[Sjoerd]:d}; '\n",
    "      'Dcab: {0[Dcab]:d}'.format(table))"
   ]
  },
  {
   "cell_type": "markdown",
   "metadata": {},
   "source": [
    "Это также можно сделать, передав переменную **table** в качестве ключевого аргумента (с обозначением «**»)."
   ]
  },
  {
   "cell_type": "code",
   "execution_count": 43,
   "metadata": {},
   "outputs": [
    {
     "name": "stdout",
     "output_type": "stream",
     "text": [
      "Jack: 1002; Sjoerd: 4127; Dcab: 8637678\n"
     ]
    }
   ],
   "source": [
    "table = {'Sjoerd': 4127, 'Jack': 4098, 'Dcab': 8637678}\n",
    "print('Jack: {Jack:x}; Sjoerd: {Sjoerd:d}; Dcab: {Dcab:d}'.format(**table))"
   ]
  },
  {
   "cell_type": "markdown",
   "metadata": {},
   "source": [
    "Ниже представлен один из способов вывести таблицу квадратов и кубов:"
   ]
  },
  {
   "cell_type": "code",
   "execution_count": 11,
   "metadata": {},
   "outputs": [
    {
     "name": "stdout",
     "output_type": "stream",
     "text": [
      " 1   1    1\n",
      " 2   4    8\n",
      " 3   9   27\n",
      " 4  16   64\n",
      " 5  25  125\n",
      " 6  36  216\n",
      " 7  49  343\n",
      " 8  64  512\n",
      " 9  81  729\n",
      "10 100 1000\n"
     ]
    }
   ],
   "source": [
    "for x in range(1, 11):\n",
    "    print('{0:2d} {1:3d} {2:4d}'.format(x, x*x, x*x*x))"
   ]
  },
  {
   "cell_type": "markdown",
   "metadata": {},
   "source": [
    "## Ручное форматирование строк <a class=\"anchor\" id=\"manual_string_formating\"></a>"
   ]
  },
  {
   "cell_type": "markdown",
   "metadata": {},
   "source": [
    "Еще один способ вывести таблицу квадратов и кубов:"
   ]
  },
  {
   "cell_type": "code",
   "execution_count": 10,
   "metadata": {},
   "outputs": [
    {
     "name": "stdout",
     "output_type": "stream",
     "text": [
      " 1   1    1\n",
      " 2   4    8\n",
      " 3   9   27\n",
      " 4  16   64\n",
      " 5  25  125\n",
      " 6  36  216\n",
      " 7  49  343\n",
      " 8  64  512\n",
      " 9  81  729\n",
      "10 100 1000\n"
     ]
    }
   ],
   "source": [
    "for x in range(1, 11):\n",
    "    print(repr(x).rjust(2), repr(x*x).rjust(3), end=' ')\n",
    "    # Note use of 'end' on previous line\n",
    "    print(repr(x*x*x).rjust(4))"
   ]
  },
  {
   "cell_type": "markdown",
   "metadata": {},
   "source": [
    "Обратите внимание, в примере между каждым столбцом был добавлен один пробел: по умолчанию функция print() добавляет пробелы между своими аргументами.\n",
    "\n",
    "В этом примере демонстрируется метод строковых объектов str.rjust (), который выравнивает строку по правому краю в поле заданной ширины, заполняя ее пробелами слева. Есть похожие методы str.ljust() и str.center(). Все эти методы ничего не пишут, они просто возвращают новую строку. Если входная строка слишком длинная, они не усекают ее, а возвращают без изменений.\n",
    "\n",
    "Существует еще один метод, str.zfill (), который дополняет числовую строку слева нулями."
   ]
  },
  {
   "cell_type": "code",
   "execution_count": 32,
   "metadata": {},
   "outputs": [
    {
     "data": {
      "text/plain": [
       "'00012'"
      ]
     },
     "execution_count": 32,
     "metadata": {},
     "output_type": "execute_result"
    }
   ],
   "source": [
    "'12'.zfill(5)"
   ]
  },
  {
   "cell_type": "code",
   "execution_count": 33,
   "metadata": {},
   "outputs": [
    {
     "data": {
      "text/plain": [
       "'-003.14'"
      ]
     },
     "execution_count": 33,
     "metadata": {},
     "output_type": "execute_result"
    }
   ],
   "source": [
    "'-3.14'.zfill(7)"
   ]
  },
  {
   "cell_type": "code",
   "execution_count": 34,
   "metadata": {},
   "outputs": [
    {
     "data": {
      "text/plain": [
       "'3.14159265359'"
      ]
     },
     "execution_count": 34,
     "metadata": {},
     "output_type": "execute_result"
    }
   ],
   "source": [
    "'3.14159265359'.zfill(5)"
   ]
  },
  {
   "cell_type": "markdown",
   "metadata": {},
   "source": [
    "## Старое форматирование <a class=\"anchor\" id=\"old_formating\"></a>"
   ]
  },
  {
   "cell_type": "markdown",
   "metadata": {},
   "source": [
    "Оператор % также можно использовать для форматирования строк. Например: "
   ]
  },
  {
   "cell_type": "code",
   "execution_count": 36,
   "metadata": {},
   "outputs": [
    {
     "name": "stdout",
     "output_type": "stream",
     "text": [
      "The value of PI is approximately 3.142.\n"
     ]
    }
   ],
   "source": [
    "import math\n",
    "print('The value of PI is approximately %5.3f.' % math.pi)"
   ]
  },
  {
   "cell_type": "markdown",
   "metadata": {},
   "source": [
    "# Чтение и запись файлов <a class=\"anchor\" id=\"read_write\"></a>"
   ]
  },
  {
   "cell_type": "markdown",
   "metadata": {},
   "source": [
    "Функция open() возвращает файловый объект. Она включает в себя следующие аргументы:\n",
    "* file - файл для работы\n",
    "* mode='r' - режим работы с файлом\n",
    "* buffering=-1 - режим буфферизации\n",
    "* encoding=None - кодировка (только для текстовых файлов)\n",
    "* errors=None - обработка ошибок, указывает каким образом обрабатывать возникающие при работе с файлом ошибки (только для текстовых файлов)\n",
    "* newline=None - определяет каким символом будет обозначаться новая строка\n",
    "* closefd=True - нужно при работе с файловым дескриптором\n",
    "* opener=None - использование пользовательского опенера (opener)\n",
    "\n",
    "Из всех них, обязательным является только **file**\n",
    "\n",
    "\n",
    "Наиболее часто используется с двумя аргументами **open(filename, mode)**"
   ]
  },
  {
   "cell_type": "code",
   "execution_count": 31,
   "metadata": {},
   "outputs": [],
   "source": [
    "f = open('workfile', 'w')"
   ]
  },
  {
   "cell_type": "markdown",
   "metadata": {},
   "source": [
    "Первый аргумент - это строка, содержащая имя файла. \n",
    "Второй аргумент - это еще одна строка, содержащая несколько символов, \n",
    "описывающих способ использования файла. \n",
    "\n",
    "Аргумент **mode** может быть:\n",
    "- **'r'** открывает файл только для чтения (установлен по умолчанию).\n",
    "- **'w'** открывает файл только для записи (существующий файл с тем же именем будет удален)\n",
    "- **'x'** открывает файл для эксклюзивного создания (только для несуществующий файлов, если файл уже создан - открытие не будет совершено)\n",
    "- **'a'** открывает файл для записи, добавляет данные в конец файла.\n",
    "- **'b'** двоичный режим.\n",
    "- **'t'** текстовый режим (установлен по умолчанию).\n",
    "- **'+'** открывает файл как для чтения, так и для записи. \n",
    "Аргумент режима не является обязательным; Если он не задан, будет использоваться режим чтения **\"r\"**.\n",
    "\n",
    "Обычно файлы открываются в текстовом режиме. Это значит, что вы читаете и записываете строки из файла и в файл, которые закодированы в определенной кодировке. Если кодировка не указана в явном виде, то значение по умолчанию зависит от платформы.\n",
    "\n",
    "В текстовом режиме при чтении по умолчанию концы строк, зависящие от платформы (\\ n в Unix, \\ r \\ n в Windows) преобразуются только в \\ n. При записи в текстовом режиме символы \\ n (окончание строки) преобразуется в символы специвфичные для конкретной платформы. \n",
    "\n",
    "При работе с файловыми объектами рекомендуется использовать ключевое слово with. Преимущество заключается в том, что файл правильно закрывается после завершения его набора, даже если в какой-то момент возникает исключение. Использование with также намного короче, чем написание эквивалентных блоков try-finally (обработка исключений):"
   ]
  },
  {
   "cell_type": "code",
   "execution_count": 2,
   "metadata": {},
   "outputs": [
    {
     "data": {
      "text/plain": [
       "True"
      ]
     },
     "execution_count": 2,
     "metadata": {},
     "output_type": "execute_result"
    }
   ],
   "source": [
    "with open('workfile') as f:\n",
    "    read_data = f.read()\n",
    "    \n",
    "f.closed"
   ]
  },
  {
   "cell_type": "markdown",
   "metadata": {},
   "source": [
    "Если вы не используете ключевое слово with, \n",
    "вам следует вызвать f.close(), чтобы закрыть файл и \n",
    "немедленно освободить все используемые им системные ресурсы. \n",
    "Если вы не закроете файл явно, сборщик мусора Python в конечном итоге уничтожит объект и закроет за вас открытый файл,\n",
    "но файл может оставаться открытым какое-то время. \n",
    "Также стоит учитывать, что разные реализации Python будут выполнять эту очистку в разное время.\n",
    "\n",
    "После закрытия файлового объекта с помощью оператора with или вызова f.close() \n",
    "попытки использовать файловый объект автоматически завершатся ошибкой."
   ]
  },
  {
   "cell_type": "code",
   "execution_count": 4,
   "metadata": {},
   "outputs": [
    {
     "ename": "ValueError",
     "evalue": "I/O operation on closed file.",
     "output_type": "error",
     "traceback": [
      "\u001b[1;31m---------------------------------------------------------------------------\u001b[0m",
      "\u001b[1;31mValueError\u001b[0m                                Traceback (most recent call last)",
      "\u001b[1;32m<ipython-input-4-bf012af3c351>\u001b[0m in \u001b[0;36m<module>\u001b[1;34m\u001b[0m\n\u001b[0;32m      1\u001b[0m \u001b[0mf\u001b[0m\u001b[1;33m.\u001b[0m\u001b[0mclose\u001b[0m\u001b[1;33m(\u001b[0m\u001b[1;33m)\u001b[0m\u001b[1;33m\u001b[0m\u001b[1;33m\u001b[0m\u001b[0m\n\u001b[1;32m----> 2\u001b[1;33m \u001b[0mf\u001b[0m\u001b[1;33m.\u001b[0m\u001b[0mread\u001b[0m\u001b[1;33m(\u001b[0m\u001b[1;33m)\u001b[0m\u001b[1;33m\u001b[0m\u001b[1;33m\u001b[0m\u001b[0m\n\u001b[0m",
      "\u001b[1;31mValueError\u001b[0m: I/O operation on closed file."
     ]
    }
   ],
   "source": [
    "f.close()\n",
    "f.read()"
   ]
  },
  {
   "cell_type": "markdown",
   "metadata": {},
   "source": [
    "## Методы файловых объектов <a class=\"anchor\" id=\"file_objects\"></a>"
   ]
  },
  {
   "cell_type": "markdown",
   "metadata": {},
   "source": [
    "### Чтение <a class=\"anchor\" id=\"read\"></a>"
   ]
  },
  {
   "cell_type": "markdown",
   "metadata": {},
   "source": [
    "Чтобы прочитать содержимое файла, нужно вызвать метод файлового объекта **read(size)**, который считывает некоторое количество данных и возвращает их \n",
    "в виде строки (в текстовом режиме) или байтового объекта (в двоичном режиме). \n",
    "**size** - необязательный числовой аргумент. Если **size** не задан или отрицателен,\n",
    "будет прочитано и возвращено все содержимое файла, в противном случае считываются и возвращаются не более количеств байт указанных в **size**. \n",
    "Если достигнут конец файла, f.read() вернет пустую строку **('')**."
   ]
  },
  {
   "cell_type": "code",
   "execution_count": 10,
   "metadata": {},
   "outputs": [
    {
     "name": "stdout",
     "output_type": "stream",
     "text": [
      "First read(): This is the first line of the file.\n",
      "Second line of the file.\n",
      "Second read(): \n"
     ]
    }
   ],
   "source": [
    "with open('workfile') as f:\n",
    "    read_data = f.read()\n",
    "    print('First read(): ' + read_data)\n",
    "    read_data = f.read()\n",
    "    print('Second read(): ' + read_data)"
   ]
  },
  {
   "cell_type": "markdown",
   "metadata": {},
   "source": [
    "f.readline() читает одну строку из файла; \n",
    "символ новой строки (\\n) остается в конце строки и опускается только в последней строке файла,\n",
    "если файл не заканчивается новой строкой. \n",
    "Если f.readline () возвращает пустую строку, значит достигнут конец файла"
   ]
  },
  {
   "cell_type": "code",
   "execution_count": 22,
   "metadata": {},
   "outputs": [
    {
     "name": "stdout",
     "output_type": "stream",
     "text": [
      "'This is the first line of the file.\\n'\n",
      "'Second line of the file.'\n",
      "''\n"
     ]
    }
   ],
   "source": [
    "with open('workfile') as f:\n",
    "    read_data = f.readline()\n",
    "    print(repr(read_data))\n",
    "    read_data = f.readline()\n",
    "    print(repr(read_data))\n",
    "    read_data = f.readline()\n",
    "    print(repr(read_data))"
   ]
  },
  {
   "cell_type": "markdown",
   "metadata": {},
   "source": [
    "Для чтения строк из файла вы можете использовать циклы."
   ]
  },
  {
   "cell_type": "code",
   "execution_count": 24,
   "metadata": {},
   "outputs": [
    {
     "name": "stdout",
     "output_type": "stream",
     "text": [
      "This is the first line of the file.\n",
      "Second line of the file."
     ]
    }
   ],
   "source": [
    "with open('workfile') as f:\n",
    "    for line in f:\n",
    "        print(line, end='')"
   ]
  },
  {
   "cell_type": "markdown",
   "metadata": {},
   "source": [
    "Если вы хотите записать все строки файла в список, \n",
    "вы также можете использовать list(f) или f.readlines()."
   ]
  },
  {
   "cell_type": "markdown",
   "metadata": {},
   "source": [
    "### Запись <a class=\"anchor\" id=\"write\"></a>"
   ]
  },
  {
   "cell_type": "markdown",
   "metadata": {},
   "source": [
    "f.write(string) записывает содержимое строки в файл, возвращая количество записанных символов."
   ]
  },
  {
   "cell_type": "code",
   "execution_count": 27,
   "metadata": {},
   "outputs": [
    {
     "name": "stdout",
     "output_type": "stream",
     "text": [
      "15\n"
     ]
    }
   ],
   "source": [
    "with open('workfile', 'a') as f:\n",
    "    print(f.write('This is a test\\n'))"
   ]
  },
  {
   "cell_type": "markdown",
   "metadata": {},
   "source": [
    "Другие типы объектов необходимо преобразовать - либо в строку (в текстовом режиме), \n",
    "либо в байтовый объект (в двоичном режиме) - перед их записью:"
   ]
  },
  {
   "cell_type": "code",
   "execution_count": 28,
   "metadata": {},
   "outputs": [
    {
     "name": "stdout",
     "output_type": "stream",
     "text": [
      "18\n"
     ]
    }
   ],
   "source": [
    "value = ('the answer', 42)\n",
    "s = str(value)  # convert the tuple to string\n",
    "with open('workfile', 'a') as f:\n",
    "    print(f.write(s))"
   ]
  },
  {
   "cell_type": "markdown",
   "metadata": {},
   "source": [
    "f.tell() возвращает целое число, дающее текущую позицию файлового объекта \n",
    "в файле, представленную как количество байтов от начала файла в двоичном режиме \n",
    "и точное число в текстовом режиме.\n",
    "\n",
    "Чтобы изменить положение файлового объекта, используйте **f.seek(offset, from_what)**. Позиция вычисляется добавлением смещения к точке отсчета; контрольная точка выбирается аргументом from_what. Значение from_what, равное 0, измеряет от начала файла, 1 использует текущую позицию файла, а 2 использует конец файла в качестве контрольной точки. from_what может быть опущено и по умолчанию равно 0, используя начало файла в качестве точки отсчета."
   ]
  },
  {
   "cell_type": "code",
   "execution_count": 32,
   "metadata": {},
   "outputs": [
    {
     "data": {
      "text/plain": [
       "16"
      ]
     },
     "execution_count": 32,
     "metadata": {},
     "output_type": "execute_result"
    }
   ],
   "source": [
    "f = open('workfile1', 'rb+')\n",
    "f.write(b'0123456789abcdef')"
   ]
  },
  {
   "cell_type": "code",
   "execution_count": 33,
   "metadata": {},
   "outputs": [
    {
     "data": {
      "text/plain": [
       "5"
      ]
     },
     "execution_count": 33,
     "metadata": {},
     "output_type": "execute_result"
    }
   ],
   "source": [
    "f.seek(5)      # Go to the 6th byte in the file"
   ]
  },
  {
   "cell_type": "code",
   "execution_count": 34,
   "metadata": {},
   "outputs": [
    {
     "data": {
      "text/plain": [
       "b'5'"
      ]
     },
     "execution_count": 34,
     "metadata": {},
     "output_type": "execute_result"
    }
   ],
   "source": [
    "f.read(1)"
   ]
  },
  {
   "cell_type": "code",
   "execution_count": 35,
   "metadata": {},
   "outputs": [
    {
     "data": {
      "text/plain": [
       "13"
      ]
     },
     "execution_count": 35,
     "metadata": {},
     "output_type": "execute_result"
    }
   ],
   "source": [
    "f.seek(-3, 2)  # Go to the 3rd byte before the end"
   ]
  },
  {
   "cell_type": "code",
   "execution_count": 36,
   "metadata": {},
   "outputs": [
    {
     "data": {
      "text/plain": [
       "b'd'"
      ]
     },
     "execution_count": 36,
     "metadata": {},
     "output_type": "execute_result"
    }
   ],
   "source": [
    "f.read(1)"
   ]
  },
  {
   "cell_type": "code",
   "execution_count": 37,
   "metadata": {},
   "outputs": [
    {
     "data": {
      "text/plain": [
       "14"
      ]
     },
     "execution_count": 37,
     "metadata": {},
     "output_type": "execute_result"
    }
   ],
   "source": [
    "f.tell()"
   ]
  },
  {
   "cell_type": "markdown",
   "metadata": {},
   "source": [
    "В текстовых файлах (открытых без **b**) разрешены только поиски относительно начала файла\n",
    "(исключение - поиск самого конца файла с помощью seek (0, 2)), и единственными допустимыми значениями смещения являются те, \n",
    "которые возвращаются из f.tell (), или ноль. \n",
    "Любое другое значение смещения приводит к неопределенному поведению."
   ]
  },
  {
   "cell_type": "markdown",
   "metadata": {},
   "source": [
    "## JSON <a class=\"anchor\" id=\"json\"></a>"
   ]
  },
  {
   "cell_type": "markdown",
   "metadata": {},
   "source": [
    "Строки можно легко записывать и читать из файла. \n",
    "Числа требуют немного больше усилий, поскольку метод **read()** возвращает \n",
    "только строки, которые необходимо передать такой функции, как **int()**, \n",
    "которая принимает строку типа '123' и возвращает ее числовое значение 123. \n",
    "Когда вы хотите сохранять более сложные типы данных, \n",
    "такие как вложенные списки и словари, анализ и сериализация \n",
    "вручную становятся сложными.\n",
    "\n",
    "Вместо того, чтобы заставлять пользователей постоянно писать \n",
    "и отлаживать код для сохранения сложных типов данных в файлы, \n",
    "Python позволяет использовать популярный формат обмена данными под \n",
    "названием JSON (JavaScript Object Notation). \n",
    "Стандартный модуль json может принимать иерархии данных Python и \n",
    "преобразовывать их в строковые представления; \n",
    "этот процесс называется сериализацией. \n",
    "Восстановление данных из строкового представления называется десериализацией. "
   ]
  },
  {
   "cell_type": "code",
   "execution_count": 40,
   "metadata": {},
   "outputs": [
    {
     "data": {
      "text/plain": [
       "'[1, \"simple\", \"list\"]'"
      ]
     },
     "execution_count": 40,
     "metadata": {},
     "output_type": "execute_result"
    }
   ],
   "source": [
    "import json\n",
    "json.dumps([1, 'simple', 'list'])"
   ]
  },
  {
   "cell_type": "markdown",
   "metadata": {},
   "source": [
    "Другой вариант функции dumps(), называемый dump (), просто сериализует объект в текстовый файл. "
   ]
  },
  {
   "cell_type": "code",
   "execution_count": 41,
   "metadata": {},
   "outputs": [],
   "source": [
    "with open('workfile2', 'w') as f:\n",
    "    json.dump([1, 'simple', 'list'], f)"
   ]
  },
  {
   "cell_type": "code",
   "execution_count": 42,
   "metadata": {},
   "outputs": [
    {
     "name": "stdout",
     "output_type": "stream",
     "text": [
      "[1, 'simple', 'list']\n"
     ]
    }
   ],
   "source": [
    "with open('workfile2', 'r') as f:\n",
    "    print(json.load(f))"
   ]
  },
  {
   "cell_type": "markdown",
   "metadata": {},
   "source": [
    "Этот простой метод сериализации может обрабатывать списки и словари, но сериализация произвольных экземпляров классов в JSON требует дополнительных усилий. Подронее такие моменты описаны в документации к модулю"
   ]
  }
 ],
 "metadata": {
  "kernelspec": {
   "display_name": "Python 3 (ipykernel)",
   "language": "python",
   "name": "python3"
  },
  "language_info": {
   "codemirror_mode": {
    "name": "ipython",
    "version": 3
   },
   "file_extension": ".py",
   "mimetype": "text/x-python",
   "name": "python",
   "nbconvert_exporter": "python",
   "pygments_lexer": "ipython3",
   "version": "3.8.10"
  }
 },
 "nbformat": 4,
 "nbformat_minor": 4
}
