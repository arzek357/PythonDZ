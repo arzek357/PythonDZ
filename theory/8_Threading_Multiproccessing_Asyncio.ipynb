{
 "cells": [
  {
   "cell_type": "markdown",
   "id": "8815ed43-ab25-4216-8063-0443072c8cfb",
   "metadata": {},
   "source": [
    "# Threading, Multiproccessing и Asyncio"
   ]
  },
  {
   "cell_type": "markdown",
   "id": "ca605252-ff67-4bbc-91c6-abd8bb8efe0e",
   "metadata": {},
   "source": [
    "Библиотеки threading и asyncio позволяют создавать многопоточные (хотя модуль asyncio не оперирует понятием потока) приложения, а multiproccessing - многопроцессорные.\n",
    "\n",
    "в Python используется глобальная блокировка интерпретатора (Global Interpreter Lock — GIL), накладывающая определенные ограничения на потоки:\n",
    "* Нельзя использовать несколько процессоров одновременно\n",
    "* Одновременно может выполняться только один поток.\n",
    "* Интерпретатор Python переключается между потоками для достижения конкурентности.\n",
    "\n",
    "Принцип работы прост. Потоки удерживают GIL, пока выполняются. Однако они освобождают его при блокировании для операций ввода-вывода. Каждый раз, когда поток вынужден ждать, другие, готовые к выполнению, потоки используют свой шанс запуститься.\n",
    "\n",
    "Из всего вышеописанного следует одна очень важная вещь - модуль threading, который позволяет создовать потоки, может улучшить производительность нашей программы только в том, случае, когда у на есть множество операций ввода-вывода, которые заставляют потоки ждать. Использование модуля threading для задач связанных с вычислениями на CPU не только не ускорят выполнение программы, но наоборт замедлят его.\n",
    "\n",
    "Модуль asyncio позволяет не CPU, а программе, выбирать в какой момент будет переключен контекст.\n",
    "\n",
    "Модуль multiproccessing обходит ограничения GIL и позволяет запускать процессы параллелно на различных ядрах. Этот модуль стоит использовать для задач связанных с вычислениями на CPU. Возможность работать с несколькими процессами также накладывает определенные издержки, например, повышает потребление оперативной памяти по сравнению с потоками (так как каждому процессу нужно свое пространство).\n",
    "\n",
    "Резюмируя:\n",
    "* multiproccessing стоит испоьзовать для задач, которые выполняются на CPU\n",
    "* asyncio и threading стоит использовать для задач, которые требуют частых задержек из-за оперции ввода-вывода (задержка сети, запросы к базам данных, ожидание ответа пользователя)"
   ]
  },
  {
   "cell_type": "code",
   "execution_count": 1,
   "id": "c5524573-f621-4d2f-8397-c2279e088a32",
   "metadata": {},
   "outputs": [
    {
     "name": "stdout",
     "output_type": "stream",
     "text": [
      "Duration 2.1561520099639893 seconds\n"
     ]
    }
   ],
   "source": [
    "# задача исполняемая на CPU с использованием multiprocessing\n",
    "\n",
    "#!/usr/bin/env python3\n",
    "import multiprocessing\n",
    "import time\n",
    "\n",
    "\n",
    "def cpu_bound(number):\n",
    "    return sum(i * i for i in range(number))\n",
    "\n",
    "\n",
    "def find_sums(numbers):\n",
    "    with multiprocessing.Pool() as pool:\n",
    "        pool.map(cpu_bound, numbers)\n",
    "\n",
    "\n",
    "if __name__ == \"__main__\":\n",
    "    numbers = [5_000_000 + x for x in range(20)]\n",
    "\n",
    "    start_time = time.time()\n",
    "    find_sums(numbers)\n",
    "    duration = time.time() - start_time\n",
    "    print(f\"Duration {duration} seconds\")"
   ]
  },
  {
   "cell_type": "code",
   "execution_count": 2,
   "id": "35a95459-79a8-485c-85b8-0f53f77e295c",
   "metadata": {},
   "outputs": [
    {
     "name": "stdout",
     "output_type": "stream",
     "text": [
      "Duration 7.216629981994629 seconds\n"
     ]
    }
   ],
   "source": [
    "# задача исполняемая на CPU без использования библиотек\n",
    "\n",
    "#!/usr/bin/env python3\n",
    "import time\n",
    "\n",
    "\n",
    "def cpu_bound(number):\n",
    "    return sum(i * i for i in range(number))\n",
    "\n",
    "\n",
    "def find_sums(numbers):\n",
    "    for number in numbers:\n",
    "        cpu_bound(number)\n",
    "\n",
    "\n",
    "if __name__ == \"__main__\":\n",
    "    numbers = [5_000_000 + x for x in range(20)]\n",
    "\n",
    "    start_time = time.time()\n",
    "    find_sums(numbers)\n",
    "    duration = time.time() - start_time\n",
    "    print(f\"Duration {duration} seconds\")"
   ]
  },
  {
   "cell_type": "code",
   "execution_count": 3,
   "id": "fc2b5150-b9a6-46c7-adb9-9e85fbc1ffbc",
   "metadata": {},
   "outputs": [
    {
     "name": "stdout",
     "output_type": "stream",
     "text": [
      "Duration 7.552484035491943 seconds\n"
     ]
    }
   ],
   "source": [
    "# # задача исполняемая на CPU с использованием threading\n",
    "\n",
    "#!/usr/bin/env python3\n",
    "import concurrent.futures\n",
    "import time\n",
    "\n",
    "\n",
    "def cpu_bound(number):\n",
    "    return sum(i * i for i in range(number))\n",
    "\n",
    "\n",
    "def find_sums(numbers):\n",
    "    with concurrent.futures.ThreadPoolExecutor(max_workers=5) as executor:\n",
    "        executor.map(cpu_bound, numbers)\n",
    "\n",
    "\n",
    "if __name__ == \"__main__\":\n",
    "    numbers = [5_000_000 + x for x in range(20)]\n",
    "\n",
    "    start_time = time.time()\n",
    "    find_sums(numbers)\n",
    "    duration = time.time() - start_time\n",
    "    print(f\"Duration {duration} seconds\")"
   ]
  },
  {
   "cell_type": "code",
   "execution_count": null,
   "id": "4d08bb8c-60c1-48a6-a51f-31bcaca15216",
   "metadata": {
    "tags": []
   },
   "outputs": [],
   "source": [
    "# задача с ожиданием с использованием asyncio\n",
    "\n",
    "#!/usr/bin/env python3\n",
    "import asyncio\n",
    "import time\n",
    "import aiohttp\n",
    "\n",
    "\n",
    "async def download_site(session, url):\n",
    "    async with session.get(url) as response:\n",
    "        print(\"Read {0} from {1}\".format(response.content_length, url))\n",
    "\n",
    "\n",
    "async def download_all_sites(sites):\n",
    "    async with aiohttp.ClientSession() as session:\n",
    "        tasks = []\n",
    "        for url in sites:\n",
    "            task = asyncio.ensure_future(download_site(session, url))\n",
    "            tasks.append(task)\n",
    "        await asyncio.gather(*tasks, return_exceptions=True)\n",
    "\n",
    "\n",
    "if __name__ == \"__main__\":\n",
    "    sites = [\n",
    "        \"https://www.jython.org\",\n",
    "        \"http://olympus.realpython.org/dice\",\n",
    "    ] * 80\n",
    "    start_time = time.time()\n",
    "    asyncio.get_event_loop().run_until_complete(download_all_sites(sites))\n",
    "    duration = time.time() - start_time\n",
    "    print(f\"Downloaded {len(sites)} sites in {duration} seconds\")"
   ]
  },
  {
   "cell_type": "code",
   "execution_count": 5,
   "id": "f48907cc-83e7-4236-bb3a-2ba0704e019b",
   "metadata": {},
   "outputs": [],
   "source": [
    "# Downloaded 160 sites in 0.7162511348724365 seconds\n",
    "# В jupyter notebook данный код не исполняется. Можно попробовать запустить в другом IDE, например Visual Studio Code"
   ]
  },
  {
   "cell_type": "code",
   "execution_count": 4,
   "id": "d04889fe-98ed-4d0f-8537-10995b19c6d4",
   "metadata": {},
   "outputs": [
    {
     "name": "stdout",
     "output_type": "stream",
     "text": [
      "Downloaded 160 in 2.508066415786743 seconds\n"
     ]
    }
   ],
   "source": [
    "# задача с ожиданием с использованием multiprocessing\n",
    "\n",
    "\n",
    "#!/usr/bin/env python3\n",
    "import requests\n",
    "import multiprocessing\n",
    "import time\n",
    "\n",
    "session = None\n",
    "\n",
    "\n",
    "def set_global_session():\n",
    "    global session\n",
    "    if not session:\n",
    "        session = requests.Session()\n",
    "\n",
    "\n",
    "def download_site(url):\n",
    "    with session.get(url) as response:\n",
    "        name = multiprocessing.current_process().name\n",
    "#         print(f\"{name}:Read {len(response.content)} from {url}\")\n",
    "\n",
    "\n",
    "def download_all_sites(sites):\n",
    "    with multiprocessing.Pool(initializer=set_global_session) as pool:\n",
    "        pool.map(download_site, sites)\n",
    "\n",
    "\n",
    "if __name__ == \"__main__\":\n",
    "    sites = [\n",
    "        \"https://www.jython.org\",\n",
    "        \"http://olympus.realpython.org/dice\",\n",
    "    ] * 80\n",
    "    start_time = time.time()\n",
    "    download_all_sites(sites)\n",
    "    duration = time.time() - start_time\n",
    "    print(f\"Downloaded {len(sites)} in {duration} seconds\")"
   ]
  },
  {
   "cell_type": "code",
   "execution_count": 5,
   "id": "2c5f4a9b-c637-492f-b4b4-d69c0c31bfbe",
   "metadata": {},
   "outputs": [
    {
     "name": "stdout",
     "output_type": "stream",
     "text": [
      "Downloaded 160 in 3.187723398208618 seconds\n"
     ]
    }
   ],
   "source": [
    "# задача с ожиданием с использованием threading\n",
    "\n",
    "#!/usr/bin/env python3\n",
    "import concurrent.futures\n",
    "import requests\n",
    "import threading\n",
    "import time\n",
    "\n",
    "\n",
    "thread_local = threading.local()\n",
    "\n",
    "\n",
    "def get_session():\n",
    "    if not hasattr(thread_local, \"session\"):\n",
    "        thread_local.session = requests.Session()\n",
    "    return thread_local.session\n",
    "\n",
    "\n",
    "def download_site(url):\n",
    "    session = get_session()\n",
    "    with session.get(url) as response:\n",
    "        pass\n",
    "#         print(f\"Read {len(response.content)} from {url}\")\n",
    "\n",
    "\n",
    "def download_all_sites(sites):\n",
    "    with concurrent.futures.ThreadPoolExecutor(max_workers=5) as executor:\n",
    "        executor.map(download_site, sites)\n",
    "\n",
    "\n",
    "if __name__ == \"__main__\":\n",
    "    sites = [\n",
    "        \"https://www.jython.org\",\n",
    "        \"http://olympus.realpython.org/dice\",\n",
    "    ] * 80\n",
    "    start_time = time.time()\n",
    "    download_all_sites(sites)\n",
    "    duration = time.time() - start_time\n",
    "    print(f\"Downloaded {len(sites)} in {duration} seconds\")"
   ]
  },
  {
   "cell_type": "code",
   "execution_count": 6,
   "id": "b92c5944-4d46-4ddb-be58-23662d78f5e7",
   "metadata": {
    "tags": []
   },
   "outputs": [
    {
     "name": "stdout",
     "output_type": "stream",
     "text": [
      "Downloaded 160 in 14.9812490940094 seconds\n"
     ]
    }
   ],
   "source": [
    "# задача с ожиданием без использования библиотек\n",
    "\n",
    "#!/usr/bin/env python3\n",
    "import requests\n",
    "import time\n",
    "\n",
    "\n",
    "def download_site(url, session):\n",
    "    with session.get(url) as response:\n",
    "        pass\n",
    "#         print(f\"Read {len(response.content)} from {url}\")\n",
    "\n",
    "\n",
    "def download_all_sites(sites):\n",
    "    with requests.Session() as session:\n",
    "        for url in sites:\n",
    "            download_site(url, session)\n",
    "\n",
    "\n",
    "if __name__ == \"__main__\":\n",
    "    sites = [\n",
    "        \"https://www.jython.org\",\n",
    "        \"http://olympus.realpython.org/dice\",\n",
    "    ] * 80\n",
    "    start_time = time.time()\n",
    "    download_all_sites(sites)\n",
    "    duration = time.time() - start_time\n",
    "    print(f\"Downloaded {len(sites)} in {duration} seconds\")"
   ]
  },
  {
   "cell_type": "markdown",
   "id": "05e9b9bd-4f97-4458-9fea-8c7e216d846a",
   "metadata": {},
   "source": [
    "# Источники:\n",
    "* https://docs.python.org/3.8/library/asyncio.html\n",
    "* https://leimao.github.io/blog/Python-Concurrency-High-Level/\n",
    "* https://github.com/realpython/materials/tree/master/concurrency-overview\n",
    "* https://habr.com/ru/company/otus/blog/501056/\n",
    "* https://habr.com/ru/post/84629/\n",
    "* https://medium.com/@itIsMadhavan/concurrency-vs-parallelism-a-brief-review-b337c8dac350"
   ]
  },
  {
   "cell_type": "code",
   "execution_count": null,
   "id": "938ae004-1afa-40a0-a465-455535edd17f",
   "metadata": {},
   "outputs": [],
   "source": []
  }
 ],
 "metadata": {
  "kernelspec": {
   "display_name": "Python 3 (ipykernel)",
   "language": "python",
   "name": "python3"
  },
  "language_info": {
   "codemirror_mode": {
    "name": "ipython",
    "version": 3
   },
   "file_extension": ".py",
   "mimetype": "text/x-python",
   "name": "python",
   "nbconvert_exporter": "python",
   "pygments_lexer": "ipython3",
   "version": "3.8.10"
  }
 },
 "nbformat": 4,
 "nbformat_minor": 5
}
