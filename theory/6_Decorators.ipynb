{
 "cells": [
  {
   "cell_type": "markdown",
   "id": "548092aa-017f-485d-83a1-448a78d9d7aa",
   "metadata": {},
   "source": [
    "# Декораторы"
   ]
  },
  {
   "cell_type": "markdown",
   "id": "f907a6c5-a263-4b9e-944b-c07c3a91bac4",
   "metadata": {},
   "source": [
    "# Оглавление\n",
    "\n",
    "* [Примеры работы с функциями](#functions_examples)\n",
    "* [Декораторы](#decorators)\n",
    "* [Функции-обертки с агрументами](#wrappers_functions)\n",
    "* [Декораторы с аргументами](#decorators_with_arguments)\n",
    "* [Использование нескольих декораторов](#few_decorators)\n",
    "* [Литература](#sources)"
   ]
  },
  {
   "cell_type": "markdown",
   "id": "c633c402-7156-4a8d-a11e-2400ddb26383",
   "metadata": {},
   "source": [
    "Декоратор — это функция, которая позволяет обернуть другую функцию для расширения её функциональности без непосредственного изменения её кода. Чтобы понять, как это работает, сначала поговорим немного в работе функций в Python.\n",
    "\n",
    "Для понимания можно разбить функции на две категории:\n",
    "1) Функции как процедуры. \n",
    "\n",
    "Процедура — это именованная последовательность шагов. Любую процедуру можно вызвать в любом месте программы, в том числе внутри другой процедуры или даже самой себя.\n",
    "\n",
    "2) Функции как объекты первого класса\n",
    "\n",
    "В Python всё является объектом. Числа, строки, классы (именно классы, а не их экземпляры), функции итд - все это являтся объектами.\n",
    "\n",
    "Этот факт, открывает перед множество возможностей. Например, можно сохранять функции в переменные, передавать их в качестве аргументов и возвращать из других функций, можно определить одну функцию внутри другой. Иными словами, функции — это объекты первого класса.\n",
    "\n",
    "    Объектами первого класса в контексте конкретного языка программирования называются элементы, с которыми можно делать всё то же, что и с любым другим объектом: передавать как параметр, возвращать из функции и присваивать переменной.\n",
    "\n",
    "Если говорить о функциях, то можно воспользоваться следующим определением:\n",
    "\n",
    "    Функции высших порядков — это такие функции, которые могут принимать в качестве аргументов и возвращать другие функции.\n"
   ]
  },
  {
   "cell_type": "markdown",
   "id": "1c5daa0c-98de-4b1b-b576-7bf607d608da",
   "metadata": {},
   "source": [
    "# Примеры работы с функциями <a class=\"anchor\" id=\"functions_examples\"></a>"
   ]
  },
  {
   "cell_type": "markdown",
   "id": "f800e6d4-b7ac-47ad-8dca-ce5c63f7c67d",
   "metadata": {},
   "source": [
    "Мы уже говорили о том, что в python функции можно:\n",
    " 1) сохранять функции в переменные\n",
    " 2) передавать их в качестве аргументов\n",
    " 3) возвращать из других функций,\n",
    " 4) определить одну функцию внутри другой"
   ]
  },
  {
   "cell_type": "code",
   "execution_count": 5,
   "id": "507b574a-85a8-4235-9c62-081a08082bab",
   "metadata": {},
   "outputs": [
    {
     "name": "stdout",
     "output_type": "stream",
     "text": [
      "some text\n"
     ]
    }
   ],
   "source": [
    "def test_function():\n",
    "    print('some text')\n",
    "    \n",
    "test_function()"
   ]
  },
  {
   "cell_type": "code",
   "execution_count": 6,
   "id": "a18401d0-dba3-4525-9bd6-f77e209b2324",
   "metadata": {},
   "outputs": [],
   "source": [
    "# демонстрация пункта 1 из списка выше\n",
    "# обратите внимание, что мы не вызываем функцию, а просто передаем ее имя\n",
    "# при вызове функции мы получим test_varaible = test_function() пустую переменную test_varaible,\n",
    "# так как функция test_function ничего не возвращает\n",
    "test_varaible = test_function"
   ]
  },
  {
   "cell_type": "code",
   "execution_count": 7,
   "id": "b7597425-0331-4116-940f-67557e596be6",
   "metadata": {},
   "outputs": [
    {
     "data": {
      "text/plain": [
       "<function __main__.test_function()>"
      ]
     },
     "execution_count": 7,
     "metadata": {},
     "output_type": "execute_result"
    }
   ],
   "source": [
    "# теперь переменная test_varaible ссылается на функцию test_function\n",
    "test_varaible"
   ]
  },
  {
   "cell_type": "code",
   "execution_count": 8,
   "id": "1cc1d1fa-cefb-4f10-99a4-68ae886f1007",
   "metadata": {},
   "outputs": [
    {
     "name": "stdout",
     "output_type": "stream",
     "text": [
      "some text\n"
     ]
    }
   ],
   "source": [
    "# обратите внимение, что мы не вызываем функцию, а просто передаем ее имя\n",
    "test_varaible()"
   ]
  },
  {
   "cell_type": "code",
   "execution_count": 9,
   "id": "94c19c83-d819-4ac7-9a3d-5e4c6adce98e",
   "metadata": {},
   "outputs": [
    {
     "name": "stdout",
     "output_type": "stream",
     "text": [
      "name 'test_function' is not defined\n",
      "some text\n"
     ]
    }
   ],
   "source": [
    "del test_function\n",
    "try:\n",
    "    test_function()\n",
    "except NameError as e:\n",
    "    print(e)\n",
    "\n",
    "test_varaible()"
   ]
  },
  {
   "cell_type": "markdown",
   "id": "883e39b2-5712-4701-a502-9000a5a74f37",
   "metadata": {},
   "source": [
    "**Немного дополнительной информации не относящейся к обсуждаемой теме.**\n",
    "\n",
    "Обратите внимание, к test_function был применен оператор del, но функция не была удалена и мы все еще можем обратится к ней через test_varaible(). На самом деле оператор del удаляет не сами объекты, а лишь имена. То есть выполнив выражение **del test_function** мы не удаляем функцию test_function, а лишь делаем не доступным вызов через test_function().\n",
    "\n",
    "Все объекты содержат в себе счетчик ссылок указывающих на этот объект. Как только на объект ничто не ссылается, сборщик мусора уничтожает его. Данный алгоритм сборки мусора справедлив для CPython, но может отличаться в других реализациях."
   ]
  },
  {
   "cell_type": "markdown",
   "id": "7c057f8c-fd77-401b-bb91-df1df41d5b06",
   "metadata": {},
   "source": [
    "Теперь, определим функцию внутри другой функции:"
   ]
  },
  {
   "cell_type": "code",
   "execution_count": 44,
   "id": "f835fb71-8091-413e-9c14-eb262a14152b",
   "metadata": {},
   "outputs": [
    {
     "name": "stdout",
     "output_type": "stream",
     "text": [
      "да...\n"
     ]
    }
   ],
   "source": [
    "def talk():\n",
    "    def whisper(word=\"да\"):\n",
    "        return word.lower()+\"...\";\n",
    "    print(whisper())\n",
    "\n",
    "talk()"
   ]
  },
  {
   "cell_type": "markdown",
   "id": "87e5f1a3-eeef-477b-9a9d-48b8dfbdb94c",
   "metadata": {},
   "source": [
    "Обратите внимание, что функция whisper не существует вне функции talk"
   ]
  },
  {
   "cell_type": "code",
   "execution_count": 47,
   "id": "2c687186-568d-4668-8c39-3e7c9749ebd0",
   "metadata": {},
   "outputs": [
    {
     "name": "stdout",
     "output_type": "stream",
     "text": [
      "name 'whisper' is not defined\n"
     ]
    }
   ],
   "source": [
    "try:\n",
    "    print(whisper())\n",
    "except NameError as e:\n",
    "    print(e)"
   ]
  },
  {
   "cell_type": "markdown",
   "id": "8388b475-f73e-43dd-9c87-b657dbf94c5e",
   "metadata": {},
   "source": [
    "Теперь попробуем вернуть функцию из другой функций"
   ]
  },
  {
   "cell_type": "code",
   "execution_count": 70,
   "id": "54c2e47b-d8f7-40c1-8f28-f775d4da3bec",
   "metadata": {},
   "outputs": [
    {
     "name": "stdout",
     "output_type": "stream",
     "text": [
      "Получена функция <function hello_world at 0x7f8214396040> в качестве аргумента\n",
      "Hello world!\n"
     ]
    },
    {
     "data": {
      "text/plain": [
       "<function __main__.hello_world()>"
      ]
     },
     "execution_count": 70,
     "metadata": {},
     "output_type": "execute_result"
    }
   ],
   "source": [
    "def hello_world():\n",
    "    print('Hello world!')\n",
    "    \n",
    "def higher_order(func):\n",
    "    print('Получена функция {} в качестве аргумента'.format(func))\n",
    "    func()\n",
    "    return func\n",
    "\n",
    "higher_order(hello_world)"
   ]
  },
  {
   "cell_type": "markdown",
   "id": "02ee8d5d-5022-4dbc-8bee-24651c35ede5",
   "metadata": {},
   "source": [
    "А теперь попробуем передать функцию как параметр"
   ]
  },
  {
   "cell_type": "code",
   "execution_count": 73,
   "id": "fc7e2014-682e-4e3f-a278-d7d8fa8e2852",
   "metadata": {},
   "outputs": [
    {
     "name": "stdout",
     "output_type": "stream",
     "text": [
      "Some actions before calling another function\n",
      "Hello world!\n"
     ]
    }
   ],
   "source": [
    "def test_function(func):\n",
    "    print('Some actions before calling another function')\n",
    "    func()\n",
    "\n",
    "test_function(hello_world)"
   ]
  },
  {
   "cell_type": "markdown",
   "id": "b2833b37-5618-4712-b16c-89cce67e3e1b",
   "metadata": {},
   "source": [
    "# Декораторы <a class=\"anchor\" id=\"decorators\"></a>"
   ]
  },
  {
   "cell_type": "markdown",
   "id": "9d677e50-9b34-474d-967e-080df9097123",
   "metadata": {},
   "source": [
    "Попробуем написать свой декоратор. Напомним, что декоратор — это функция, которая позволяет обернуть другую функцию для расширения её функциональности без непосредственного изменения её кода."
   ]
  },
  {
   "cell_type": "code",
   "execution_count": 10,
   "id": "aadb2194-2b47-41aa-90c6-bf3eaf91b693",
   "metadata": {},
   "outputs": [
    {
     "name": "stdout",
     "output_type": "stream",
     "text": [
      "Just a simple function\n"
     ]
    }
   ],
   "source": [
    "def decorator_function(a_function_to_decorate):\n",
    "    # Внутри себя декоратор определяет функцию-\"обёртку\".\n",
    "    # Она будет обёрнута вокруг декорируемой,\n",
    "    # получая возможность исполнять произвольный код до и после неё.\n",
    "\n",
    "    def the_wrapper_around_the_original_function():\n",
    "        # Здесь можно разместить код, который нужно запускать ДО вызова оригинальной функции\n",
    "        print(\"Something BEFORE original function\")\n",
    " \n",
    "        # Вызываем саму декорируемую ф \\ункцию\n",
    "        a_function_to_decorate()\n",
    "\n",
    "        # Здесь можно разместить код, который нужно запускать ПОСЛЕ вызова оригинальной функции\n",
    "        print(\"Something AFTER original function\")\n",
    "\n",
    "    # Возвращаем функцию-обёртку\n",
    "    return the_wrapper_around_the_original_function\n",
    "\n",
    "# \n",
    "def a_stand_alone_function():\n",
    "    print(\"Just a simple function\")\n",
    "\n",
    "a_stand_alone_function()"
   ]
  },
  {
   "cell_type": "code",
   "execution_count": 4,
   "id": "87ffa20c-0fef-4c1a-8b30-909c85ddc278",
   "metadata": {},
   "outputs": [
    {
     "name": "stdout",
     "output_type": "stream",
     "text": [
      "Something BEFORE original function\n",
      "Just a simple function\n",
      "Something AFTER original function\n"
     ]
    }
   ],
   "source": [
    "a_stand_alone_function_decorated = decorator_function(a_stand_alone_function)\n",
    "a_stand_alone_function_decorated()"
   ]
  },
  {
   "cell_type": "markdown",
   "id": "9db3fec9-6639-49fe-a355-0284dddede37",
   "metadata": {},
   "source": [
    "Если необходимо, чтобы каждый раз, во время вызова a_stand_alone_function, вместо неё вызывалась a_stand_alone_function_decorated, то просто перезапишем a_stand_alone_function функцией, которую нам вернул decorator_function"
   ]
  },
  {
   "cell_type": "code",
   "execution_count": 6,
   "id": "a720ea2e-2c7c-49bd-ac92-40abe9ce0fd8",
   "metadata": {},
   "outputs": [
    {
     "name": "stdout",
     "output_type": "stream",
     "text": [
      "Something BEFORE original function\n",
      "Just a simple function\n",
      "Something AFTER original function\n"
     ]
    }
   ],
   "source": [
    "a_stand_alone_function = decorator_function(a_stand_alone_function)\n",
    "a_stand_alone_function()"
   ]
  },
  {
   "cell_type": "markdown",
   "id": "18f8c998-654a-4d83-a5a1-ee6457ec6439",
   "metadata": {},
   "source": [
    "А теперь, заменим все выше описанное"
   ]
  },
  {
   "cell_type": "code",
   "execution_count": 11,
   "id": "4468a367-eeb9-45eb-ac5f-27b5e5a9f434",
   "metadata": {},
   "outputs": [
    {
     "name": "stdout",
     "output_type": "stream",
     "text": [
      "Something BEFORE original function\n",
      "Another simple function\n",
      "Something AFTER original function\n"
     ]
    }
   ],
   "source": [
    "@decorator_function\n",
    "def another_stand_alone_function():\n",
    "    print('Another simple function')\n",
    "\n",
    "another_stand_alone_function()"
   ]
  },
  {
   "cell_type": "markdown",
   "id": "709ce004-6532-49c8-a7a5-ac97b3caa052",
   "metadata": {},
   "source": [
    "Просто добавив @decorator_function перед определением функции, мы модифицировали её поведение. Выражение с @ является всего лишь синтаксическим сахаром для выражения a_stand_alone_function = decorator_function(a_stand_alone_function).\n",
    "\n",
    "Посмотрим еще на несколько примеров:"
   ]
  },
  {
   "cell_type": "code",
   "execution_count": 10,
   "id": "8b9be7f0-418a-4057-bb93-432fbc489a0e",
   "metadata": {},
   "outputs": [
    {
     "name": "stdout",
     "output_type": "stream",
     "text": [
      "[*] Время выполнения: 0.3260071277618408 секунд.\n"
     ]
    }
   ],
   "source": [
    "def benchmark(func):\n",
    "    import time\n",
    "    \n",
    "    def wrapper():\n",
    "        start = time.time()\n",
    "        func()\n",
    "        end = time.time()\n",
    "        print('[*] Время выполнения: {} секунд.'.format(end-start))\n",
    "    return wrapper\n",
    "\n",
    "@benchmark\n",
    "def fetch_webpage():\n",
    "    import requests\n",
    "    webpage = requests.get('https://google.com')\n",
    "\n",
    "fetch_webpage()"
   ]
  },
  {
   "cell_type": "markdown",
   "id": "7ed170a3-4abe-42bb-986b-73bb3101a9c2",
   "metadata": {},
   "source": [
    "# Функции-обертки с агрументами <a class=\"anchor\" id=\"wrappers_functions\"></a>"
   ]
  },
  {
   "cell_type": "markdown",
   "id": "e41cdd84-f45f-4775-880b-c5453205d3fd",
   "metadata": {},
   "source": [
    "В приведённых выше примерах декораторы ничего не принимали и не возвращали. Модифицируем наш декоратор для измерения времени выполнения:"
   ]
  },
  {
   "cell_type": "code",
   "execution_count": 15,
   "id": "449ab42a-5e35-4bd7-8fb4-5d987681cfd7",
   "metadata": {
    "tags": []
   },
   "outputs": [
    {
     "name": "stdout",
     "output_type": "stream",
     "text": [
      "[*] Время выполнения: 0.2563745975494385 секунд.\n",
      "<!doctype html><html itemscope=\"\" itemtype=\"http://schema.org/WebPage\" lang=\"ru\"><head><meta content=\"&#1055;&#1086;&#1080;&#1089;&#1082; &#1080;&#1085;&#1092;&#1086;&#1088;&#1084;&#1072;&#1094;&#1080\n"
     ]
    }
   ],
   "source": [
    "def benchmark(func):\n",
    "    import time\n",
    "    \n",
    "    def wrapper(*args, **kwargs):\n",
    "        start = time.time()\n",
    "        return_value = func(*args, **kwargs)\n",
    "        end = time.time()\n",
    "        print('[*] Время выполнения: {} секунд.'.format(end-start))\n",
    "        return return_value\n",
    "    return wrapper\n",
    "\n",
    "@benchmark\n",
    "def fetch_webpage(url):\n",
    "    import requests\n",
    "    webpage = requests.get(url)\n",
    "    return webpage.text\n",
    "\n",
    "webpage = fetch_webpage('https://google.com')\n",
    "print(webpage[:200])"
   ]
  },
  {
   "cell_type": "markdown",
   "id": "da757417-d3de-4192-82d1-e0afa71d171b",
   "metadata": {},
   "source": [
    "Как вы видите, аргументы декорируемой функции передаются функции-обёртке, после чего с ними можно делать что угодно. Можно изменять аргументы и затем передавать их декорируемой функции, а можно оставить их как есть или вовсе забыть про них и передать что-нибудь совсем другое. То же касается возвращаемого из декорируемой функции значения, с ним тоже можно делать что угодно.\n",
    "\n"
   ]
  },
  {
   "cell_type": "markdown",
   "id": "f537049a-6e4a-4eb2-a6b2-831e40a14745",
   "metadata": {},
   "source": [
    "# Декораторы с аргументами <a class=\"anchor\" id=\"decorators_with_arguments\"></a>"
   ]
  },
  {
   "cell_type": "code",
   "execution_count": 22,
   "id": "5ae1280e-12fb-4828-86b6-565e9c36f34a",
   "metadata": {},
   "outputs": [
    {
     "name": "stdout",
     "output_type": "stream",
     "text": [
      "[*] Среднее время выполнения: 0.25022263526916505 секунд.\n",
      "<!doctype html><html itemscope=\"\" itemtype=\"http://schema.org/WebPage\" lang=\"ru\"><head><meta content=\"&#1055;&#1086;&#1080;&#1089;&#1082; &#1080;&#1085;&#1092;&#1086;&#1088;&#1084;&#1072;&#1094;&#1080\n"
     ]
    }
   ],
   "source": [
    "def benchmark(iters):\n",
    "    def actual_decorator(func):\n",
    "        import time\n",
    "        \n",
    "        def wrapper(*args, **kwargs):\n",
    "            total = 0\n",
    "            for i in range(iters):\n",
    "                start = time.time()\n",
    "                return_value = func(*args, **kwargs)\n",
    "                end = time.time()\n",
    "                total = total + (end-start)\n",
    "            print('[*] Среднее время выполнения: {} секунд.'.format(total/iters))\n",
    "            return return_value\n",
    "\n",
    "        return wrapper\n",
    "    return actual_decorator\n",
    "\n",
    "\n",
    "@benchmark(iters=10)\n",
    "def fetch_webpage(url):\n",
    "    import requests\n",
    "    webpage = requests.get(url)\n",
    "    return webpage.text\n",
    "\n",
    "webpage = fetch_webpage('https://google.com')\n",
    "print(webpage[:200])"
   ]
  },
  {
   "cell_type": "markdown",
   "id": "ae11a32d-94d9-456a-afb5-d26dee600d37",
   "metadata": {},
   "source": [
    "Здесь мы модифицировали наш старый декоратор таким образом, чтобы он выполнял декорируемую функцию **iters** раз, а затем выводил среднее время выполнения. Однако чтобы добиться этого, пришлось воспользоваться природой функций в Python.\n",
    "\n",
    "Функция benchmark() на первый взгляд может показаться декоратором, но на самом деле таковым не является. Это обычная функция, которая принимает аргумент iters, а затем возвращает декоратор. В свою очередь, он декорирует функцию fetch_webpage(). Поэтому мы использовали не выражение @benchmark, а @benchmark(iters=10) — это означает, что тут вызывается функция benchmark() (функция со скобками после неё обозначает вызов функции), после чего она возвращает сам декоратор.\n",
    "\n",
    "Для определения, что есть декоратор стоит помнить, что:\n",
    "\n",
    "    Декоратор принимает функцию в качестве аргумента и возвращает функцию.\n",
    "\n",
    "В нашем примере benchmark() не удовлетворяет этому условию, так как она не принимает функцию в качестве аргумента. В то время как функция actual_decorator(), которая возвращается benchmark(), является декоратором."
   ]
  },
  {
   "cell_type": "markdown",
   "id": "0af3e53f-d0f4-4534-92c4-c336765b0308",
   "metadata": {},
   "source": [
    "# Использование нескольих декораторов <a class=\"anchor\" id=\"few_decorators\"></a>"
   ]
  },
  {
   "cell_type": "markdown",
   "id": "ef7508d0-a583-4df6-aeb7-5df6dbba406e",
   "metadata": {},
   "source": [
    "Можно использовать сразу несколько декораторов для одной функции:"
   ]
  },
  {
   "cell_type": "code",
   "execution_count": 31,
   "id": "958c607a-e838-4dc2-b9a5-0eb39787290a",
   "metadata": {},
   "outputs": [
    {
     "name": "stdout",
     "output_type": "stream",
     "text": [
      "First hello: <b><i>hello</i></b>\n",
      "Second hello: <i><b>hello</b></i>\n"
     ]
    }
   ],
   "source": [
    "def makebold(fn):\n",
    "    def wrapped():\n",
    "        return \"<b>\" + fn() + \"</b>\"\n",
    "    return wrapped\n",
    " \n",
    "def makeitalic(fn):\n",
    "    def wrapped():\n",
    "        return \"<i>\" + fn() + \"</i>\"\n",
    "    return wrapped\n",
    " \n",
    "@makebold\n",
    "@makeitalic\n",
    "def hello():\n",
    "    return \"hello\"\n",
    "\n",
    "@makeitalic\n",
    "@makebold\n",
    "def another_hello():\n",
    "    return \"hello\"\n",
    " \n",
    "print('First hello: ' + hello())\n",
    "print('Second hello: ' + another_hello())"
   ]
  },
  {
   "cell_type": "markdown",
   "id": "98b93f6e-e997-447f-9d88-da0b3f838d0e",
   "metadata": {},
   "source": [
    "Обратите внимание, что порядок декораторов имеет значение. К функции можно применить множество декораторов, но стоит помнить о порядке их применения. Декораторы применяются снизу вверх"
   ]
  },
  {
   "cell_type": "markdown",
   "id": "b78cb4b2-38cb-4d1f-a4e4-ca1df78aad30",
   "metadata": {},
   "source": [
    "# Литература: <a class=\"anchor\" id=\"sources\"></a>\n",
    "1) https://habr.com/ru/post/141411/\n",
    "2) https://tproger.ru/translations/demystifying-decorators-in-python/"
   ]
  }
 ],
 "metadata": {
  "kernelspec": {
   "display_name": "Python 3 (ipykernel)",
   "language": "python",
   "name": "python3"
  },
  "language_info": {
   "codemirror_mode": {
    "name": "ipython",
    "version": 3
   },
   "file_extension": ".py",
   "mimetype": "text/x-python",
   "name": "python",
   "nbconvert_exporter": "python",
   "pygments_lexer": "ipython3",
   "version": "3.8.10"
  }
 },
 "nbformat": 4,
 "nbformat_minor": 5
}
